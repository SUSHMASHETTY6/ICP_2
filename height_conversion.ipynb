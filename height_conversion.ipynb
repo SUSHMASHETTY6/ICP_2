{
  "nbformat": 4,
  "nbformat_minor": 0,
  "metadata": {
    "colab": {
      "provenance": []
    },
    "kernelspec": {
      "name": "python3",
      "display_name": "Python 3"
    },
    "language_info": {
      "name": "python"
    }
  },
  "cells": [
    {
      "cell_type": "code",
      "execution_count": 1,
      "metadata": {
        "colab": {
          "base_uri": "https://localhost:8080/"
        },
        "id": "3QT2HdmfxVPl",
        "outputId": "53227ccb-0f21-4216-f0f4-193525269579"
      },
      "outputs": [
        {
          "output_type": "stream",
          "name": "stdout",
          "text": [
            "Enter number of elements : 3\n",
            "21\n",
            "34\n",
            "56\n",
            "[21, 34, 56]\n",
            "[53.34, 86.36, 142.24]\n"
          ]
        }
      ],
      "source": [
        "# Write a program, which reads heights (inches.) of customers into a list and convert these heights to centimeters in a separate list.\n",
        "\n",
        "import numpy as np\n",
        "mylst = []\n",
        "\n",
        "# number of elements as input\n",
        "n = int(input(\"Enter number of elements : \"))\n",
        "\n",
        "# iterating till the range\n",
        "for i in range(0, n):\n",
        "    ele = int(input())\n",
        "\n",
        "    mylst.append(ele) # adding the element\n",
        "\n",
        "print(mylst)\n",
        "lyst = mylst\n",
        "result = 2.54\n",
        "for x in lyst:\n",
        "  # conversion\n",
        " h_cm = np.array(lyst) * result\n",
        "\n",
        " new_list = list(h_cm)\n",
        "print(new_list)"
      ]
    }
  ]
}