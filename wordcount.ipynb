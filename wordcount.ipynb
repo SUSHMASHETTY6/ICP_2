{
  "nbformat": 4,
  "nbformat_minor": 0,
  "metadata": {
    "colab": {
      "provenance": []
    },
    "kernelspec": {
      "name": "python3",
      "display_name": "Python 3"
    },
    "language_info": {
      "name": "python"
    }
  },
  "cells": [
    {
      "cell_type": "code",
      "execution_count": null,
      "metadata": {
        "colab": {
          "base_uri": "https://localhost:8080/"
        },
        "id": "MqWMcSnhwpUG",
        "outputId": "857fb48b-3f58-46b6-9ca0-77ece9e7b67b"
      },
      "outputs": [
        {
          "output_type": "stream",
          "name": "stdout",
          "text": [
            "{'Python': 2, 'Course': 4, 'Deep': 2, 'Learning': 2, 'count': 1, ':': 1, '1': 5}\n"
          ]
        }
      ],
      "source": [
        "# Write a python program to find the wordcount in a file (input.txt) for each line and then print the output.\n",
        "def word_count(str):\n",
        "    counts = dict()\n",
        "    words = str.split()\n",
        "\n",
        "    for word in words:\n",
        "        if word in counts:\n",
        "            counts[word] += 1\n",
        "        else:\n",
        "            counts[word] = 1\n",
        "\n",
        "    return counts\n",
        "with open('sample.txt', 'r') as file1:\n",
        "  FileContent = file1.read()\n",
        "  print(word_count(FileContent))"
      ]
    }
  ]
}