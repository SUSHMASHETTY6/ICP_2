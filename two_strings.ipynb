{
  "nbformat": 4,
  "nbformat_minor": 0,
  "metadata": {
    "colab": {
      "provenance": []
    },
    "kernelspec": {
      "name": "python3",
      "display_name": "Python 3"
    },
    "language_info": {
      "name": "python"
    }
  },
  "cells": [
    {
      "cell_type": "code",
      "execution_count": null,
      "metadata": {
        "colab": {
          "base_uri": "https://localhost:8080/"
        },
        "id": "xWxWSpkiwRjj",
        "outputId": "75ea8a18-57b9-4745-b63e-0031cac0a9ef"
      },
      "outputs": [
        {
          "output_type": "stream",
          "name": "stdout",
          "text": [
            "Enter your first name: sushma\n",
            "Enter your last name: alampally\n",
            "your full_name is :  sushma alampally\n",
            "your alternative string is:  ssm lmal\n"
          ]
        }
      ],
      "source": [
        "# Write a program that takes two strings from the user: first_name, last_name.\n",
        "\n",
        "first_name = input(\"Enter your first name: \")\n",
        "last_name = input(\"Enter your last name: \")\n",
        "def fullname(first_name, last_name):\n",
        "    global full_name\n",
        "# adding two strings\n",
        "    full_name = first_name + \" \" + last_name\n",
        "    print(\"your full_name is : \", full_name)\n",
        "fullname(first_name, last_name)\n",
        "# String alternative\n",
        "def string_alternative(full_name):\n",
        "    print(\"your alternative string is: \", full_name[::2])\n",
        "string_alternative(full_name)"
      ]
    }
  ]
}